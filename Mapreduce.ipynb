{
 "cells": [
  {
   "cell_type": "code",
   "execution_count": 2,
   "id": "c6564d23-e363-42b9-8047-03cb36bb1647",
   "metadata": {},
   "outputs": [
    {
     "name": "stdout",
     "output_type": "stream",
     "text": [
      "students\n",
      "grades\n",
      "student\n",
      "address\n",
      "course\n"
     ]
    }
   ],
   "source": [
    "from pymongo import MongoClient\n",
    "\n",
    "#by default we connected to localhost and 27017 \n",
    "client = MongoClient('localhost', 27017) # replace 'localhost' with your MongoDB server address\n",
    "db = client.get_database('faculty') # We select the name of db that we use\n",
    "collection_names = db.list_collection_names() #I want to know all collections in my db\n",
    "for name in collection_names:\n",
    "    print(name)"
   ]
  },
  {
   "cell_type": "code",
   "execution_count": 3,
   "id": "4a1bbe58-d20b-4cd3-893c-e0540d0ac8b8",
   "metadata": {},
   "outputs": [],
   "source": [
    "from bson.code import Code\n",
    "from pymongo import MongoClient\n"
   ]
  },
  {
   "cell_type": "code",
   "execution_count": 4,
   "id": "9eb96313-25ca-4388-95ff-0203a0449b84",
   "metadata": {},
   "outputs": [],
   "source": [
    "map_fun=Code(\"\"\"\n",
    "function(key,values)\n",
    "{\n",
    "emit(this.level,this.gpa)\n",
    "}\n",
    "\"\"\")"
   ]
  },
  {
   "cell_type": "code",
   "execution_count": 6,
   "id": "4083ffc6-4b00-4418-8f5f-dd229f01ec3f",
   "metadata": {},
   "outputs": [],
   "source": [
    "reduce_fun=Code(\"\"\"\n",
    "function(key,values)\n",
    "{\n",
    "return Array.sum(values);\n",
    "}\"\"\")"
   ]
  },
  {
   "cell_type": "code",
   "execution_count": 8,
   "id": "b71202e0-4778-4aa9-85f8-c3b4570544c2",
   "metadata": {},
   "outputs": [],
   "source": [
    "res=db.command({\n",
    "    \"mapReduce\":\"student\",\n",
    "    \"map\":map_fun,\n",
    "    \"reduce\":reduce_fun,\n",
    "    \"out\":\"Output_sum\"\n",
    "})\n"
   ]
  },
  {
   "cell_type": "code",
   "execution_count": 9,
   "id": "696f670f-6c64-490d-8031-955d9c7a89cd",
   "metadata": {},
   "outputs": [
    {
     "name": "stdout",
     "output_type": "stream",
     "text": [
      "{'_id': 1.0, 'value': 4.0}\n",
      "{'_id': 2.0, 'value': 8.9}\n",
      "{'_id': 3.0, 'value': 6.6}\n"
     ]
    }
   ],
   "source": [
    "resultt=db.Output_sum.find()\n",
    "for i in resultt:\n",
    "    print(i)"
   ]
  },
  {
   "cell_type": "code",
   "execution_count": null,
   "id": "10417650-49af-4c53-b5c5-946f58e20f14",
   "metadata": {},
   "outputs": [],
   "source": []
  }
 ],
 "metadata": {
  "kernelspec": {
   "display_name": "Python 3 (ipykernel)",
   "language": "python",
   "name": "python3"
  },
  "language_info": {
   "codemirror_mode": {
    "name": "ipython",
    "version": 3
   },
   "file_extension": ".py",
   "mimetype": "text/x-python",
   "name": "python",
   "nbconvert_exporter": "python",
   "pygments_lexer": "ipython3",
   "version": "3.8.10"
  }
 },
 "nbformat": 4,
 "nbformat_minor": 5
}
